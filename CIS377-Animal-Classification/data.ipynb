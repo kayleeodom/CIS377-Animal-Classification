{
 "cells": [
  {
   "cell_type": "markdown",
   "metadata": {},
   "source": [
    "# Preview of Data"
   ]
  },
  {
   "cell_type": "code",
   "execution_count": null,
   "metadata": {},
   "outputs": [],
   "source": [
    "# load in data from python file"
   ]
  },
  {
   "cell_type": "markdown",
   "metadata": {},
   "source": [
    "### Show Number of Classes"
   ]
  },
  {
   "cell_type": "code",
   "execution_count": null,
   "metadata": {},
   "outputs": [],
   "source": [
    "train_class_counts = np.bincount(train_generator.classes)\n",
    "x = np.arange(len(translated_labels))\n",
    "plt.bar(x, train_class_counts)\n",
    "plt.xticks(x, translated_labels, rotation=45)\n",
    "plt.xlabel(\"Classes\")\n",
    "plt.ylabel(\"Number of Samples\")\n",
    "plt.title(\"Number of Samples per Class (Training Data)\")\n",
    "plt.show()"
   ]
  },
  {
   "cell_type": "markdown",
   "metadata": {},
   "source": [
    "### Display Some Data"
   ]
  },
  {
   "cell_type": "code",
   "execution_count": null,
   "metadata": {},
   "outputs": [],
   "source": [
    "# Display image samples\n",
    "max_images = 20\n",
    "plt.figure(figsize=(15, 15))\n",
    "for X_batch, y_batch in train_generator:\n",
    "    for i in range(min(max_images, len(X_batch))):\n",
    "        plt.subplot(4, 5, i + 1)\n",
    "        plt.imshow(X_batch[i])\n",
    "        plt.title(translated_labels[np.argmax(y_batch[i])])\n",
    "        plt.axis('off')\n",
    "    plt.show()\n",
    "    break"
   ]
  },
  {
   "cell_type": "code",
   "execution_count": null,
   "metadata": {},
   "outputs": [],
   "source": [
    "plt.figure(figsize=(15,15))\n",
    "for X_batch, y_batch in validation_generator:\n",
    "    for i in range(min(max_images, len(X_batch))):  \n",
    "        plt.subplot(4, 5, i + 1)  \n",
    "        plt.imshow(X_batch[i])\n",
    "        plt.title(translated_labels[np.where(y_batch[i] == 1)[0][0]])  \n",
    "        plt.axis('off')  \n",
    "    plt.show()  \n",
    "    break  "
   ]
  }
 ],
 "metadata": {
  "kernelspec": {
   "display_name": "base",
   "language": "python",
   "name": "python3"
  },
  "language_info": {
   "name": "python",
   "version": "3.12.4"
  }
 },
 "nbformat": 4,
 "nbformat_minor": 2
}
