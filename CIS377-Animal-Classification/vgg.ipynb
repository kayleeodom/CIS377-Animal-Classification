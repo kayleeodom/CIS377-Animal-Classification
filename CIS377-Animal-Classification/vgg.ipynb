{
 "cells": [
  {
   "cell_type": "markdown",
   "metadata": {},
   "source": [
    "# VGG-16 Work"
   ]
  },
  {
   "cell_type": "code",
   "execution_count": 11,
   "metadata": {},
   "outputs": [
    {
     "name": "stdout",
     "output_type": "stream",
     "text": [
      "Categories: ['cane', 'cavallo', 'elefante', 'farfalla', 'gallina', 'gatto', 'mucca', 'pecora', 'ragno', 'scoiattolo']\n",
      "cane: 4863 files\n",
      "cavallo: 2623 files\n",
      "elefante: 1446 files\n",
      "farfalla: 2112 files\n",
      "gallina: 3098 files\n",
      "gatto: 1668 files\n",
      "mucca: 1866 files\n",
      "pecora: 1820 files\n",
      "ragno: 4821 files\n",
      "scoiattolo: 1862 files\n"
     ]
    }
   ],
   "source": [
    "import os\n",
    "\n",
    "# Path to the dataset folder\n",
    "dataset_path = r'csv/raw-img'\n",
    "\n",
    "# List all subdirectories (e.g., categories)\n",
    "categories = [d for d in os.listdir(dataset_path) if os.path.isdir(os.path.join(dataset_path, d))]\n",
    "print(f\"Categories: {categories}\")\n",
    "\n",
    "# List files in each category\n",
    "for category in categories:\n",
    "    category_path = os.path.join(dataset_path, category)\n",
    "    files = os.listdir(category_path)\n",
    "    print(f\"{category}: {len(files)} files\")\n"
   ]
  },
  {
   "cell_type": "code",
   "execution_count": 12,
   "metadata": {},
   "outputs": [],
   "source": [
    "translate = {\"cane\": \"dog\", \"cavallo\": \"horse\", \"elefante\": \"elephant\", \"farfalla\": \"butterfly\", \"gallina\": \"chicken\", \"gatto\": \"cat\", \"mucca\": \"cow\", \"pecora\": \"sheep\", \"scoiattolo\": \"squirrel\", \"dog\": \"cane\", \"cavallo\": \"horse\", \"elephant\" : \"elefante\", \"butterfly\": \"farfalla\", \"chicken\": \"gallina\", \"cat\": \"gatto\", \"cow\": \"mucca\", \"spider\": \"ragno\", \"squirrel\": \"scoiattolo\"}"
   ]
  }
 ],
 "metadata": {
  "kernelspec": {
   "display_name": "Python 3",
   "language": "python",
   "name": "python3"
  },
  "language_info": {
   "codemirror_mode": {
    "name": "ipython",
    "version": 3
   },
   "file_extension": ".py",
   "mimetype": "text/x-python",
   "name": "python",
   "nbconvert_exporter": "python",
   "pygments_lexer": "ipython3",
   "version": "3.11.10"
  }
 },
 "nbformat": 4,
 "nbformat_minor": 2
}
