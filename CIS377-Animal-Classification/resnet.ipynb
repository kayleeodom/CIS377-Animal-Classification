{
 "cells": [
  {
   "cell_type": "markdown",
   "metadata": {},
   "source": [
    "# Resnet Work"
   ]
  },
  {
   "cell_type": "markdown",
   "metadata": {},
   "source": [
    "### Importing Libraires"
   ]
  },
  {
   "cell_type": "code",
   "execution_count": null,
   "metadata": {},
   "outputs": [],
   "source": [
    "# import numpy as np\n",
    "# import matplotlib.pyplot as plt\n",
    "# import seaborn as sns\n",
    "\n",
    "# from tensorflow.keras.preprocessing.image import ImageDataGenerator\n",
    "# from tensorflow.keras.applications import ResNet152V2\n",
    "# from tensorflow.keras.layers import GlobalAveragePooling2D, Dense\n",
    "# from tensorflow.keras.models import Model\n",
    "# from tensorflow.keras.callbacks import EarlyStopping, ReduceLROnPlateau, ModelCheckpoint\n",
    "# from sklearn.metrics import classification_report, confusion_matrix"
   ]
  },
  {
   "cell_type": "markdown",
   "metadata": {},
   "source": [
    "### Read the Data"
   ]
  },
  {
   "cell_type": "code",
   "execution_count": null,
   "metadata": {},
   "outputs": [],
   "source": [
    "# # Translation dictionary for class labels\n",
    "# translate = {\n",
    "#     \"cane\": \"dog\", \"cavallo\": \"horse\", \"elefante\": \"elephant\",\n",
    "#     \"farfalla\": \"butterfly\", \"gallina\": \"chicken\", \"gatto\": \"cat\",\n",
    "#     \"mucca\": \"cow\", \"pecora\": \"sheep\", \"scoiattolo\": \"squirrel\",\n",
    "#     \"dog\": \"cane\", \"cavallo\": \"horse\", \"elephant\": \"elefante\",\n",
    "#     \"butterfly\": \"farfalla\", \"chicken\": \"gallina\", \"cat\": \"gatto\",\n",
    "#     \"cow\": \"mucca\", \"spider\": \"ragno\", \"squirrel\": \"scoiattolo\"\n",
    "# }"
   ]
  },
  {
   "cell_type": "code",
   "execution_count": null,
   "metadata": {},
   "outputs": [],
   "source": [
    "# train_dir = '/kaggle/input/intel-image-classification/seg_train/seg_train'\n",
    "# test_dir = '/kaggle/input/intel-image-classification/seg_test/seg_test'"
   ]
  },
  {
   "cell_type": "code",
   "execution_count": null,
   "metadata": {},
   "outputs": [],
   "source": [
    "# # Directories\n",
    "# directory = r'csv/raw-img'\n",
    "\n",
    "# # Data augmentation and generators\n",
    "# datagen = ImageDataGenerator(rescale=1/255.,\n",
    "#                              zoom_range=0.2,\n",
    "#                              horizontal_flip=True,\n",
    "#                              validation_split=0.15)\n",
    "\n",
    "# train_generator = datagen.flow_from_directory(directory,  \n",
    "#                                                 target_size=(224, 224), \n",
    "#                                                 batch_size=32,\n",
    "#                                                 shuffle=True,\n",
    "#                                                 subset='training',\n",
    "#                                                 class_mode='categorical')  \n",
    "\n",
    "# validation_generator = datagen.flow_from_directory(directory,\n",
    "#                                                     target_size=(224, 224),\n",
    "#                                                     batch_size=32,\n",
    "#                                                     shuffle=False,\n",
    "#                                                     subset='validation',\n",
    "#                                                     class_mode='categorical')"
   ]
  },
  {
   "cell_type": "markdown",
   "metadata": {},
   "source": [
    "### Show Number of Classes"
   ]
  },
  {
   "cell_type": "markdown",
   "metadata": {},
   "source": [
    "### Building of Resnet Model"
   ]
  },
  {
   "cell_type": "code",
   "execution_count": null,
   "metadata": {},
   "outputs": [],
   "source": []
  }
 ],
 "metadata": {
  "kernelspec": {
   "display_name": "base",
   "language": "python",
   "name": "python3"
  },
  "language_info": {
   "codemirror_mode": {
    "name": "ipython",
    "version": 3
   },
   "file_extension": ".py",
   "mimetype": "text/x-python",
   "name": "python",
   "nbconvert_exporter": "python",
   "pygments_lexer": "ipython3",
   "version": "3.10.13"
  }
 },
 "nbformat": 4,
 "nbformat_minor": 2
}
